{
  "nbformat": 4,
  "nbformat_minor": 0,
  "metadata": {
    "colab": {
      "name": "Untitled5.ipynb",
      "provenance": [],
      "authorship_tag": "ABX9TyPqW2BmI0h4qI8FWqGyj36j",
      "include_colab_link": true
    },
    "kernelspec": {
      "name": "python3",
      "display_name": "Python 3"
    }
  },
  "cells": [
    {
      "cell_type": "markdown",
      "metadata": {
        "id": "view-in-github",
        "colab_type": "text"
      },
      "source": [
        "<a href=\"https://colab.research.google.com/github/sruthi1996/DeepLearning/blob/master/MNIST_Assignment1.ipynb\" target=\"_parent\"><img src=\"https://colab.research.google.com/assets/colab-badge.svg\" alt=\"Open In Colab\"/></a>"
      ]
    },
    {
      "cell_type": "markdown",
      "metadata": {
        "id": "N2wyA4dPGKwx",
        "colab_type": "text"
      },
      "source": [
        "MNIST classification using Numpy- Assignment-1\n"
      ]
    },
    {
      "cell_type": "markdown",
      "metadata": {
        "id": "r-f057LYIBhD",
        "colab_type": "text"
      },
      "source": [
        "Importing the MNIST dataset using Keras; the handwritten digits will be used for classification using neural networks.\n",
        "Also, the Image data generator API from keras has been used for Image Augmentation.\n",
        "**Image Augmentation** is a technique where batches of image data will be generated. This creates artificial images using multiple ways like rotations, flips or shifts."
      ]
    },
    {
      "cell_type": "code",
      "metadata": {
        "id": "LR49gS9vIDQS",
        "colab_type": "code",
        "colab": {
          "base_uri": "https://localhost:8080/",
          "height": 81
        },
        "outputId": "47e66365-45a1-41a5-8849-aa5cf34ddf9d"
      },
      "source": [
        "from keras.datasets import mnist\n",
        "from keras_preprocessing.image import ImageDataGenerator\n",
        "import numpy as np\n",
        "import random\n"
      ],
      "execution_count": 1,
      "outputs": [
        {
          "output_type": "stream",
          "text": [
            "Using TensorFlow backend.\n"
          ],
          "name": "stderr"
        },
        {
          "output_type": "display_data",
          "data": {
            "text/html": [
              "<p style=\"color: red;\">\n",
              "The default version of TensorFlow in Colab will soon switch to TensorFlow 2.x.<br>\n",
              "We recommend you <a href=\"https://www.tensorflow.org/guide/migrate\" target=\"_blank\">upgrade</a> now \n",
              "or ensure your notebook will continue to use TensorFlow 1.x via the <code>%tensorflow_version 1.x</code> magic:\n",
              "<a href=\"https://colab.research.google.com/notebooks/tensorflow_version.ipynb\" target=\"_blank\">more info</a>.</p>\n"
            ],
            "text/plain": [
              "<IPython.core.display.HTML object>"
            ]
          },
          "metadata": {
            "tags": []
          }
        }
      ]
    },
    {
      "cell_type": "code",
      "metadata": {
        "id": "1KW80VZWIOyZ",
        "colab_type": "code",
        "colab": {}
      },
      "source": [
        "#Download the MNIST data; dataset contains data for both training and testing\n",
        "(X_train, Y_train), (X_test, Y_test) = mnist.load_data()\n"
      ],
      "execution_count": 0,
      "outputs": []
    },
    {
      "cell_type": "code",
      "metadata": {
        "id": "IOysTHVzIqtF",
        "colab_type": "code",
        "colab": {
          "base_uri": "https://localhost:8080/",
          "height": 265
        },
        "outputId": "c778411a-6549-4a56-aa0e-84c173bb3e8d"
      },
      "source": [
        "import matplotlib.pyplot as plt\n",
        "plt.imshow(X_train[5], cmap=plt.get_cmap('gray'))\n",
        "plt.show()"
      ],
      "execution_count": 8,
      "outputs": [
        {
          "output_type": "display_data",
          "data": {
            "image/png": "[encoded data removed]",
            "text/plain": [
              "<Figure size 432x288 with 1 Axes>"
            ]
          },
          "metadata": {
            "tags": []
          }
        }
      ]
    },
    {
      "cell_type": "code",
      "metadata": {
        "id": "Vvensu_qJQdh",
        "colab_type": "code",
        "colab": {}
      },
      "source": [
        "The Y labels or the target in both train and test data are digits ranging from 0 to 9, which have to be converted into vectors; "
      ],
      "execution_count": 0,
      "outputs": []
    },
    {
      "cell_type": "code",
      "metadata": {
        "id": "VsKP58NVJ1UF",
        "colab_type": "code",
        "colab": {}
      },
      "source": [
        "from keras.utils import np_utils\n",
        "Y_train = np_utils.to_categorical(Y_train)\n",
        "Y_test = np_utils.to_categorical(Y_test)"
      ],
      "execution_count": 0,
      "outputs": []
    },
    {
      "cell_type": "code",
      "metadata": {
        "id": "XsEsbiRqKEM1",
        "colab_type": "code",
        "colab": {}
      },
      "source": [
        ""
      ],
      "execution_count": 0,
      "outputs": []
    },
    {
      "cell_type": "markdown",
      "metadata": {
        "id": "u_rWQYrbKOu6",
        "colab_type": "text"
      },
      "source": [
        "Now, to perform Normalization on the dataset; we are using **grayscale**. In **grayscale normalization**; the Min and Max values which are between 0 and 255 change to a new set of minimum and maximum values i.e. between 0 and 1."
      ]
    },
    {
      "cell_type": "code",
      "metadata": {
        "id": "TZY57MXiKUKJ",
        "colab_type": "code",
        "colab": {}
      },
      "source": [
        "X_train = X_train / 255.0\n",
        "X_test = X_test / 255.0"
      ],
      "execution_count": 0,
      "outputs": []
    },
    {
      "cell_type": "markdown",
      "metadata": {
        "id": "U85mdlnQKdes",
        "colab_type": "text"
      },
      "source": [
        "Now, we have to reshape the dataset into  the 784 pixel values i.e. into 3 dimensions; "
      ]
    },
    {
      "cell_type": "code",
      "metadata": {
        "id": "PmXq-BeuKaWS",
        "colab_type": "code",
        "colab": {
          "base_uri": "https://localhost:8080/",
          "height": 34
        },
        "outputId": "69c5d4bb-b9ad-44d4-cd92-a011d2081810"
      },
      "source": [
        "X_train = X_train.reshape(-1,28,28,1)\n",
        "print(X_train.shape)\n",
        "\n",
        "#X_train = X_train.reshape(X_train.shape[0], 28, 28, 1)\n",
        "#X_test = X_test.reshape(X_test.shape[0], 28, 28, 1)"
      ],
      "execution_count": 13,
      "outputs": [
        {
          "output_type": "stream",
          "text": [
            "(60000, 28, 28, 1)\n"
          ],
          "name": "stdout"
        }
      ]
    },
    {
      "cell_type": "markdown",
      "metadata": {
        "id": "b7GSQbgBLP7W",
        "colab_type": "text"
      },
      "source": [
        "Similarily doing it for test data; "
      ]
    },
    {
      "cell_type": "code",
      "metadata": {
        "id": "CHFC-0YjLOay",
        "colab_type": "code",
        "colab": {
          "base_uri": "https://localhost:8080/",
          "height": 34
        },
        "outputId": "a17e02eb-d446-4fb5-92c2-2de0f28d61b9"
      },
      "source": [
        "X_test = X_test.reshape(-1,28,28,1)\n",
        "print(X_test.shape)"
      ],
      "execution_count": 14,
      "outputs": [
        {
          "output_type": "stream",
          "text": [
            "(10000, 28, 28, 1)\n"
          ],
          "name": "stdout"
        }
      ]
    },
    {
      "cell_type": "markdown",
      "metadata": {
        "id": "7nETEP-_LfgZ",
        "colab_type": "text"
      },
      "source": [
        "AS mentioned above; using an API from keras to perform image augmentation."
      ]
    },
    {
      "cell_type": "code",
      "metadata": {
        "id": "RLD4r3VaLvyd",
        "colab_type": "code",
        "colab": {}
      },
      "source": [
        "datageneration = ImageDataGenerator(zoom_range=0.5, width_shift_range=0.05, height_shift_range=0.05)\n",
        "datageneration.fit(X_train)"
      ],
      "execution_count": 0,
      "outputs": []
    },
    {
      "cell_type": "markdown",
      "metadata": {
        "id": "EPSnksoWL8sq",
        "colab_type": "text"
      },
      "source": [
        ""
      ]
    },
    {
      "cell_type": "code",
      "metadata": {
        "id": "L9kbuoVZL7Oi",
        "colab_type": "code",
        "colab": {}
      },
      "source": [
        ""
      ],
      "execution_count": 0,
      "outputs": []
    }
  ]
}