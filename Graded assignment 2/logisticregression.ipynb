{
  "nbformat": 4,
  "nbformat_minor": 0,
  "metadata": {
    "colab": {
      "name": "logisticregression",
      "provenance": [],
      "collapsed_sections": []
    },
    "kernelspec": {
      "name": "python3",
      "display_name": "Python 3"
    }
  },
  "cells": [
    {
      "cell_type": "code",
      "metadata": {
        "id": "LyoWYDiXM2au",
        "colab_type": "code",
        "outputId": "12173ed0-f0a3-41f3-c0e0-2fc92ec7ac0f",
        "colab": {
          "base_uri": "https://localhost:8080/",
          "height": 34
        }
      },
      "source": [
        "import os\n",
        "import numpy as np\n",
        "import warnings\n",
        "warnings.filterwarnings(\"ignore\")\n",
        "import numpy as np\n",
        "import pandas as pd\n",
        "import matplotlib.pyplot as plt\n",
        "from sklearn.metrics import confusion_matrix, f1_score, recall_score\n",
        "from sklearn.preprocessing import StandardScaler\n",
        "from sklearn.model_selection import  train_test_split\n",
        "from keras.models import Model, load_model\n",
        "from keras.layers import Input, Dense\n",
        "from keras.callbacks import ModelCheckpoint, TensorBoard\n",
        "from keras import regularizers\n",
        "import tensorflow as tf"
      ],
      "execution_count": 0,
      "outputs": [
        {
          "output_type": "stream",
          "text": [
            "Using TensorFlow backend.\n"
          ],
          "name": "stderr"
        }
      ]
    },
    {
      "cell_type": "code",
      "metadata": {
        "id": "0o-9UjSzNGj6",
        "colab_type": "code",
        "outputId": "fe1a6dc3-72cf-4552-b5a1-7796e746cb7f",
        "colab": {
          "base_uri": "https://localhost:8080/",
          "height": 263
        }
      },
      "source": [
        "!pip install PyDrive"
      ],
      "execution_count": 0,
      "outputs": [
        {
          "output_type": "stream",
          "text": [
            "Requirement already satisfied: PyDrive in /usr/local/lib/python3.6/dist-packages (1.3.1)\n",
            "Requirement already satisfied: google-api-python-client>=1.2 in /usr/local/lib/python3.6/dist-packages (from PyDrive) (1.7.12)\n",
            "Requirement already satisfied: oauth2client>=4.0.0 in /usr/local/lib/python3.6/dist-packages (from PyDrive) (4.1.3)\n",
            "Requirement already satisfied: PyYAML>=3.0 in /usr/local/lib/python3.6/dist-packages (from PyDrive) (3.13)\n",
            "Requirement already satisfied: google-auth-httplib2>=0.0.3 in /usr/local/lib/python3.6/dist-packages (from google-api-python-client>=1.2->PyDrive) (0.0.3)\n",
            "Requirement already satisfied: google-auth>=1.4.1 in /usr/local/lib/python3.6/dist-packages (from google-api-python-client>=1.2->PyDrive) (1.7.2)\n",
            "Requirement already satisfied: uritemplate<4dev,>=3.0.0 in /usr/local/lib/python3.6/dist-packages (from google-api-python-client>=1.2->PyDrive) (3.0.1)\n",
            "Requirement already satisfied: six<2dev,>=1.6.1 in /usr/local/lib/python3.6/dist-packages (from google-api-python-client>=1.2->PyDrive) (1.12.0)\n",
            "Requirement already satisfied: httplib2<1dev,>=0.17.0 in /usr/local/lib/python3.6/dist-packages (from google-api-python-client>=1.2->PyDrive) (0.17.3)\n",
            "Requirement already satisfied: pyasn1-modules>=0.0.5 in /usr/local/lib/python3.6/dist-packages (from oauth2client>=4.0.0->PyDrive) (0.2.8)\n",
            "Requirement already satisfied: rsa>=3.1.4 in /usr/local/lib/python3.6/dist-packages (from oauth2client>=4.0.0->PyDrive) (4.0)\n",
            "Requirement already satisfied: pyasn1>=0.1.7 in /usr/local/lib/python3.6/dist-packages (from oauth2client>=4.0.0->PyDrive) (0.4.8)\n",
            "Requirement already satisfied: cachetools<3.2,>=2.0.0 in /usr/local/lib/python3.6/dist-packages (from google-auth>=1.4.1->google-api-python-client>=1.2->PyDrive) (3.1.1)\n",
            "Requirement already satisfied: setuptools>=40.3.0 in /usr/local/lib/python3.6/dist-packages (from google-auth>=1.4.1->google-api-python-client>=1.2->PyDrive) (46.1.3)\n"
          ],
          "name": "stdout"
        }
      ]
    },
    {
      "cell_type": "code",
      "metadata": {
        "id": "Fsd6AedjNJ4Y",
        "colab_type": "code",
        "colab": {}
      },
      "source": [
        "from pydrive.auth import GoogleAuth\n",
        "from pydrive.drive import GoogleDrive\n",
        "from google.colab import auth\n",
        "from oauth2client.client import GoogleCredentials"
      ],
      "execution_count": 0,
      "outputs": []
    },
    {
      "cell_type": "code",
      "metadata": {
        "id": "bHnKzotSNNZm",
        "colab_type": "code",
        "colab": {}
      },
      "source": [
        "auth.authenticate_user()\n",
        "gauth = GoogleAuth()\n",
        "gauth.credentials = GoogleCredentials.get_application_default()\n",
        "drive = GoogleDrive(gauth)"
      ],
      "execution_count": 0,
      "outputs": []
    },
    {
      "cell_type": "code",
      "metadata": {
        "id": "Rk3_lrxBNT2o",
        "colab_type": "code",
        "colab": {}
      },
      "source": [
        "download = drive.CreateFile({'id':\"1CQU5Jvf3X3FtbJZfvwt3BmSeit4Dq1Bo\"})\n",
        "download.GetContentFile('diabetes.csv')"
      ],
      "execution_count": 0,
      "outputs": []
    },
    {
      "cell_type": "code",
      "metadata": {
        "id": "gXx2bXZBN2n3",
        "colab_type": "code",
        "colab": {}
      },
      "source": [
        "df = pd.read_csv('diabetes.csv')"
      ],
      "execution_count": 0,
      "outputs": []
    },
    {
      "cell_type": "code",
      "metadata": {
        "id": "B5GS9uW2N7MV",
        "colab_type": "code",
        "outputId": "9cbfc777-fc74-42cc-80f4-c2ff1b364547",
        "colab": {
          "base_uri": "https://localhost:8080/",
          "height": 195
        }
      },
      "source": [
        "df.head(5)"
      ],
      "execution_count": 0,
      "outputs": [
        {
          "output_type": "execute_result",
          "data": {
            "text/html": [
              "<div>\n",
              "<style scoped>\n",
              "    .dataframe tbody tr th:only-of-type {\n",
              "        vertical-align: middle;\n",
              "    }\n",
              "\n",
              "    .dataframe tbody tr th {\n",
              "        vertical-align: top;\n",
              "    }\n",
              "\n",
              "    .dataframe thead th {\n",
              "        text-align: right;\n",
              "    }\n",
              "</style>\n",
              "<table border=\"1\" class=\"dataframe\">\n",
              "  <thead>\n",
              "    <tr style=\"text-align: right;\">\n",
              "      <th></th>\n",
              "      <th>Pregnancies</th>\n",
              "      <th>Glucose</th>\n",
              "      <th>BloodPressure</th>\n",
              "      <th>SkinThickness</th>\n",
              "      <th>Insulin</th>\n",
              "      <th>BMI</th>\n",
              "      <th>DiabetesPedigreeFunction</th>\n",
              "      <th>Age</th>\n",
              "      <th>Outcome</th>\n",
              "    </tr>\n",
              "  </thead>\n",
              "  <tbody>\n",
              "    <tr>\n",
              "      <th>0</th>\n",
              "      <td>6</td>\n",
              "      <td>148</td>\n",
              "      <td>72</td>\n",
              "      <td>35</td>\n",
              "      <td>0</td>\n",
              "      <td>33.6</td>\n",
              "      <td>0.627</td>\n",
              "      <td>50</td>\n",
              "      <td>1</td>\n",
              "    </tr>\n",
              "    <tr>\n",
              "      <th>1</th>\n",
              "      <td>1</td>\n",
              "      <td>85</td>\n",
              "      <td>66</td>\n",
              "      <td>29</td>\n",
              "      <td>0</td>\n",
              "      <td>26.6</td>\n",
              "      <td>0.351</td>\n",
              "      <td>31</td>\n",
              "      <td>0</td>\n",
              "    </tr>\n",
              "    <tr>\n",
              "      <th>2</th>\n",
              "      <td>8</td>\n",
              "      <td>183</td>\n",
              "      <td>64</td>\n",
              "      <td>0</td>\n",
              "      <td>0</td>\n",
              "      <td>23.3</td>\n",
              "      <td>0.672</td>\n",
              "      <td>32</td>\n",
              "      <td>1</td>\n",
              "    </tr>\n",
              "    <tr>\n",
              "      <th>3</th>\n",
              "      <td>1</td>\n",
              "      <td>89</td>\n",
              "      <td>66</td>\n",
              "      <td>23</td>\n",
              "      <td>94</td>\n",
              "      <td>28.1</td>\n",
              "      <td>0.167</td>\n",
              "      <td>21</td>\n",
              "      <td>0</td>\n",
              "    </tr>\n",
              "    <tr>\n",
              "      <th>4</th>\n",
              "      <td>0</td>\n",
              "      <td>137</td>\n",
              "      <td>40</td>\n",
              "      <td>35</td>\n",
              "      <td>168</td>\n",
              "      <td>43.1</td>\n",
              "      <td>2.288</td>\n",
              "      <td>33</td>\n",
              "      <td>1</td>\n",
              "    </tr>\n",
              "  </tbody>\n",
              "</table>\n",
              "</div>"
            ],
            "text/plain": [
              "   Pregnancies  Glucose  BloodPressure  ...  DiabetesPedigreeFunction  Age  Outcome\n",
              "0            6      148             72  ...                     0.627   50        1\n",
              "1            1       85             66  ...                     0.351   31        0\n",
              "2            8      183             64  ...                     0.672   32        1\n",
              "3            1       89             66  ...                     0.167   21        0\n",
              "4            0      137             40  ...                     2.288   33        1\n",
              "\n",
              "[5 rows x 9 columns]"
            ]
          },
          "metadata": {
            "tags": []
          },
          "execution_count": 7
        }
      ]
    },
    {
      "cell_type": "markdown",
      "metadata": {
        "id": "RozEPpHAN-Ui",
        "colab_type": "text"
      },
      "source": [
        "Checking for any Null Values"
      ]
    },
    {
      "cell_type": "code",
      "metadata": {
        "id": "AE6LBSL6N9vD",
        "colab_type": "code",
        "outputId": "26d3883a-afca-4a48-a8f3-1d011de7efb9",
        "colab": {
          "base_uri": "https://localhost:8080/",
          "height": 193
        }
      },
      "source": [
        "df.isnull().sum()"
      ],
      "execution_count": 0,
      "outputs": [
        {
          "output_type": "execute_result",
          "data": {
            "text/plain": [
              "Pregnancies                 0\n",
              "Glucose                     0\n",
              "BloodPressure               0\n",
              "SkinThickness               0\n",
              "Insulin                     0\n",
              "BMI                         0\n",
              "DiabetesPedigreeFunction    0\n",
              "Age                         0\n",
              "Outcome                     0\n",
              "dtype: int64"
            ]
          },
          "metadata": {
            "tags": []
          },
          "execution_count": 8
        }
      ]
    },
    {
      "cell_type": "code",
      "metadata": {
        "id": "ZAnOdQKCOQCm",
        "colab_type": "code",
        "outputId": "96cc3f0b-d295-432f-d607-f212bf27a9dd",
        "colab": {
          "base_uri": "https://localhost:8080/",
          "height": 402
        }
      },
      "source": [
        "input_layers = df.drop(['Outcome'],axis=1)\n",
        "input_layers"
      ],
      "execution_count": 0,
      "outputs": [
        {
          "output_type": "execute_result",
          "data": {
            "text/html": [
              "<div>\n",
              "<style scoped>\n",
              "    .dataframe tbody tr th:only-of-type {\n",
              "        vertical-align: middle;\n",
              "    }\n",
              "\n",
              "    .dataframe tbody tr th {\n",
              "        vertical-align: top;\n",
              "    }\n",
              "\n",
              "    .dataframe thead th {\n",
              "        text-align: right;\n",
              "    }\n",
              "</style>\n",
              "<table border=\"1\" class=\"dataframe\">\n",
              "  <thead>\n",
              "    <tr style=\"text-align: right;\">\n",
              "      <th></th>\n",
              "      <th>Pregnancies</th>\n",
              "      <th>Glucose</th>\n",
              "      <th>BloodPressure</th>\n",
              "      <th>SkinThickness</th>\n",
              "      <th>Insulin</th>\n",
              "      <th>BMI</th>\n",
              "      <th>DiabetesPedigreeFunction</th>\n",
              "      <th>Age</th>\n",
              "    </tr>\n",
              "  </thead>\n",
              "  <tbody>\n",
              "    <tr>\n",
              "      <th>0</th>\n",
              "      <td>6</td>\n",
              "      <td>148</td>\n",
              "      <td>72</td>\n",
              "      <td>35</td>\n",
              "      <td>0</td>\n",
              "      <td>33.6</td>\n",
              "      <td>0.627</td>\n",
              "      <td>50</td>\n",
              "    </tr>\n",
              "    <tr>\n",
              "      <th>1</th>\n",
              "      <td>1</td>\n",
              "      <td>85</td>\n",
              "      <td>66</td>\n",
              "      <td>29</td>\n",
              "      <td>0</td>\n",
              "      <td>26.6</td>\n",
              "      <td>0.351</td>\n",
              "      <td>31</td>\n",
              "    </tr>\n",
              "    <tr>\n",
              "      <th>2</th>\n",
              "      <td>8</td>\n",
              "      <td>183</td>\n",
              "      <td>64</td>\n",
              "      <td>0</td>\n",
              "      <td>0</td>\n",
              "      <td>23.3</td>\n",
              "      <td>0.672</td>\n",
              "      <td>32</td>\n",
              "    </tr>\n",
              "    <tr>\n",
              "      <th>3</th>\n",
              "      <td>1</td>\n",
              "      <td>89</td>\n",
              "      <td>66</td>\n",
              "      <td>23</td>\n",
              "      <td>94</td>\n",
              "      <td>28.1</td>\n",
              "      <td>0.167</td>\n",
              "      <td>21</td>\n",
              "    </tr>\n",
              "    <tr>\n",
              "      <th>4</th>\n",
              "      <td>0</td>\n",
              "      <td>137</td>\n",
              "      <td>40</td>\n",
              "      <td>35</td>\n",
              "      <td>168</td>\n",
              "      <td>43.1</td>\n",
              "      <td>2.288</td>\n",
              "      <td>33</td>\n",
              "    </tr>\n",
              "    <tr>\n",
              "      <th>...</th>\n",
              "      <td>...</td>\n",
              "      <td>...</td>\n",
              "      <td>...</td>\n",
              "      <td>...</td>\n",
              "      <td>...</td>\n",
              "      <td>...</td>\n",
              "      <td>...</td>\n",
              "      <td>...</td>\n",
              "    </tr>\n",
              "    <tr>\n",
              "      <th>763</th>\n",
              "      <td>10</td>\n",
              "      <td>101</td>\n",
              "      <td>76</td>\n",
              "      <td>48</td>\n",
              "      <td>180</td>\n",
              "      <td>32.9</td>\n",
              "      <td>0.171</td>\n",
              "      <td>63</td>\n",
              "    </tr>\n",
              "    <tr>\n",
              "      <th>764</th>\n",
              "      <td>2</td>\n",
              "      <td>122</td>\n",
              "      <td>70</td>\n",
              "      <td>27</td>\n",
              "      <td>0</td>\n",
              "      <td>36.8</td>\n",
              "      <td>0.340</td>\n",
              "      <td>27</td>\n",
              "    </tr>\n",
              "    <tr>\n",
              "      <th>765</th>\n",
              "      <td>5</td>\n",
              "      <td>121</td>\n",
              "      <td>72</td>\n",
              "      <td>23</td>\n",
              "      <td>112</td>\n",
              "      <td>26.2</td>\n",
              "      <td>0.245</td>\n",
              "      <td>30</td>\n",
              "    </tr>\n",
              "    <tr>\n",
              "      <th>766</th>\n",
              "      <td>1</td>\n",
              "      <td>126</td>\n",
              "      <td>60</td>\n",
              "      <td>0</td>\n",
              "      <td>0</td>\n",
              "      <td>30.1</td>\n",
              "      <td>0.349</td>\n",
              "      <td>47</td>\n",
              "    </tr>\n",
              "    <tr>\n",
              "      <th>767</th>\n",
              "      <td>1</td>\n",
              "      <td>93</td>\n",
              "      <td>70</td>\n",
              "      <td>31</td>\n",
              "      <td>0</td>\n",
              "      <td>30.4</td>\n",
              "      <td>0.315</td>\n",
              "      <td>23</td>\n",
              "    </tr>\n",
              "  </tbody>\n",
              "</table>\n",
              "<p>768 rows × 8 columns</p>\n",
              "</div>"
            ],
            "text/plain": [
              "     Pregnancies  Glucose  BloodPressure  ...   BMI  DiabetesPedigreeFunction  Age\n",
              "0              6      148             72  ...  33.6                     0.627   50\n",
              "1              1       85             66  ...  26.6                     0.351   31\n",
              "2              8      183             64  ...  23.3                     0.672   32\n",
              "3              1       89             66  ...  28.1                     0.167   21\n",
              "4              0      137             40  ...  43.1                     2.288   33\n",
              "..           ...      ...            ...  ...   ...                       ...  ...\n",
              "763           10      101             76  ...  32.9                     0.171   63\n",
              "764            2      122             70  ...  36.8                     0.340   27\n",
              "765            5      121             72  ...  26.2                     0.245   30\n",
              "766            1      126             60  ...  30.1                     0.349   47\n",
              "767            1       93             70  ...  30.4                     0.315   23\n",
              "\n",
              "[768 rows x 8 columns]"
            ]
          },
          "metadata": {
            "tags": []
          },
          "execution_count": 9
        }
      ]
    },
    {
      "cell_type": "code",
      "metadata": {
        "id": "_xmkhL5FOiWO",
        "colab_type": "code",
        "outputId": "49d52203-d987-4136-bbbe-3589a9dc0623",
        "colab": {
          "base_uri": "https://localhost:8080/",
          "height": 228
        }
      },
      "source": [
        "output_pred = df[\"Outcome\"]\n",
        "output_pred"
      ],
      "execution_count": 0,
      "outputs": [
        {
          "output_type": "execute_result",
          "data": {
            "text/plain": [
              "0      1\n",
              "1      0\n",
              "2      1\n",
              "3      0\n",
              "4      1\n",
              "      ..\n",
              "763    0\n",
              "764    0\n",
              "765    0\n",
              "766    1\n",
              "767    0\n",
              "Name: Outcome, Length: 768, dtype: int64"
            ]
          },
          "metadata": {
            "tags": []
          },
          "execution_count": 10
        }
      ]
    },
    {
      "cell_type": "markdown",
      "metadata": {
        "id": "Wq9IBXdkPAjh",
        "colab_type": "text"
      },
      "source": [
        "Converting the features into list"
      ]
    },
    {
      "cell_type": "code",
      "metadata": {
        "id": "gYI2yXnwOxWV",
        "colab_type": "code",
        "colab": {}
      },
      "source": [
        "input_layers=input_layers.values\n",
        "output_pred=output_pred.values"
      ],
      "execution_count": 0,
      "outputs": []
    },
    {
      "cell_type": "code",
      "metadata": {
        "id": "xezlMeMkPOiN",
        "colab_type": "code",
        "outputId": "6446d5d4-41e6-405a-b267-fe9a20da22b2",
        "colab": {
          "base_uri": "https://localhost:8080/",
          "height": 140
        }
      },
      "source": [
        "print(input_layers)"
      ],
      "execution_count": 0,
      "outputs": [
        {
          "output_type": "stream",
          "text": [
            "[[  6.    148.     72.    ...  33.6     0.627  50.   ]\n",
            " [  1.     85.     66.    ...  26.6     0.351  31.   ]\n",
            " [  8.    183.     64.    ...  23.3     0.672  32.   ]\n",
            " ...\n",
            " [  5.    121.     72.    ...  26.2     0.245  30.   ]\n",
            " [  1.    126.     60.    ...  30.1     0.349  47.   ]\n",
            " [  1.     93.     70.    ...  30.4     0.315  23.   ]]\n"
          ],
          "name": "stdout"
        }
      ]
    },
    {
      "cell_type": "code",
      "metadata": {
        "id": "Lj1co8ROPQ35",
        "colab_type": "code",
        "outputId": "dcb4a447-2653-4222-dca8-07540869af58",
        "colab": {
          "base_uri": "https://localhost:8080/",
          "height": 633
        }
      },
      "source": [
        "output_pred"
      ],
      "execution_count": 0,
      "outputs": [
        {
          "output_type": "execute_result",
          "data": {
            "text/plain": [
              "array([1, 0, 1, 0, 1, 0, 1, 0, 1, 1, 0, 1, 0, 1, 1, 1, 1, 1, 0, 1, 0, 0,\n",
              "       1, 1, 1, 1, 1, 0, 0, 0, 0, 1, 0, 0, 0, 0, 0, 1, 1, 1, 0, 0, 0, 1,\n",
              "       0, 1, 0, 0, 1, 0, 0, 0, 0, 1, 0, 0, 1, 0, 0, 0, 0, 1, 0, 0, 1, 0,\n",
              "       1, 0, 0, 0, 1, 0, 1, 0, 0, 0, 0, 0, 1, 0, 0, 0, 0, 0, 1, 0, 0, 0,\n",
              "       1, 0, 0, 0, 0, 1, 0, 0, 0, 0, 0, 1, 1, 0, 0, 0, 0, 0, 0, 0, 0, 1,\n",
              "       1, 1, 0, 0, 1, 1, 1, 0, 0, 0, 1, 0, 0, 0, 1, 1, 0, 0, 1, 1, 1, 1,\n",
              "       1, 0, 0, 0, 0, 0, 0, 0, 0, 0, 0, 1, 0, 0, 0, 0, 0, 0, 0, 0, 1, 0,\n",
              "       1, 1, 0, 0, 0, 1, 0, 0, 0, 0, 1, 1, 0, 0, 0, 0, 1, 1, 0, 0, 0, 1,\n",
              "       0, 1, 0, 1, 0, 0, 0, 0, 0, 1, 1, 1, 1, 1, 0, 0, 1, 1, 0, 1, 0, 1,\n",
              "       1, 1, 0, 0, 0, 0, 0, 0, 1, 1, 0, 1, 0, 0, 0, 1, 1, 1, 1, 0, 1, 1,\n",
              "       1, 1, 0, 0, 0, 0, 0, 1, 0, 0, 1, 1, 0, 0, 0, 1, 1, 1, 1, 0, 0, 0,\n",
              "       1, 1, 0, 1, 0, 0, 0, 0, 0, 0, 0, 0, 1, 1, 0, 0, 0, 1, 0, 1, 0, 0,\n",
              "       1, 0, 1, 0, 0, 1, 1, 0, 0, 0, 0, 0, 1, 0, 0, 0, 1, 0, 0, 1, 1, 0,\n",
              "       0, 1, 0, 0, 0, 1, 1, 1, 0, 0, 1, 0, 1, 0, 1, 1, 0, 1, 0, 0, 1, 0,\n",
              "       1, 1, 0, 0, 1, 0, 1, 0, 0, 1, 0, 1, 0, 1, 1, 1, 0, 0, 1, 0, 1, 0,\n",
              "       0, 0, 1, 0, 0, 0, 0, 1, 1, 1, 0, 0, 0, 0, 0, 0, 0, 0, 0, 1, 0, 0,\n",
              "       0, 0, 0, 1, 1, 1, 0, 1, 1, 0, 0, 1, 0, 0, 1, 0, 0, 1, 1, 0, 0, 0,\n",
              "       0, 1, 0, 0, 1, 0, 0, 0, 0, 0, 0, 0, 1, 1, 1, 0, 0, 1, 0, 0, 1, 0,\n",
              "       0, 1, 0, 1, 1, 0, 1, 0, 1, 0, 1, 0, 1, 1, 0, 0, 0, 0, 1, 1, 0, 1,\n",
              "       0, 1, 0, 0, 0, 0, 1, 1, 0, 1, 0, 1, 0, 0, 0, 0, 0, 1, 0, 0, 0, 0,\n",
              "       1, 0, 0, 1, 1, 1, 0, 0, 1, 0, 0, 1, 0, 0, 0, 1, 0, 0, 1, 0, 0, 0,\n",
              "       0, 0, 0, 0, 0, 0, 1, 0, 0, 0, 0, 0, 0, 0, 1, 0, 0, 0, 1, 0, 0, 0,\n",
              "       1, 1, 0, 0, 0, 0, 0, 0, 0, 1, 0, 0, 0, 0, 1, 0, 0, 0, 1, 0, 0, 0,\n",
              "       1, 0, 0, 0, 1, 0, 0, 0, 0, 1, 1, 0, 0, 0, 0, 0, 0, 1, 0, 0, 0, 0,\n",
              "       0, 0, 0, 0, 0, 0, 0, 1, 0, 0, 0, 1, 1, 1, 1, 0, 0, 1, 1, 0, 0, 0,\n",
              "       0, 0, 0, 0, 0, 0, 0, 0, 0, 0, 1, 1, 0, 0, 0, 0, 0, 0, 0, 1, 0, 0,\n",
              "       0, 0, 0, 0, 0, 1, 0, 1, 1, 0, 0, 0, 1, 0, 1, 0, 1, 0, 1, 0, 1, 0,\n",
              "       0, 1, 0, 0, 1, 0, 0, 0, 0, 1, 1, 0, 1, 0, 0, 0, 0, 1, 1, 0, 1, 0,\n",
              "       0, 0, 1, 1, 0, 0, 0, 0, 0, 0, 0, 0, 0, 0, 1, 0, 0, 0, 0, 1, 0, 0,\n",
              "       1, 0, 0, 0, 1, 0, 0, 0, 1, 1, 1, 0, 0, 0, 0, 0, 0, 1, 0, 0, 0, 1,\n",
              "       0, 1, 1, 1, 1, 0, 1, 1, 0, 0, 0, 0, 0, 0, 0, 1, 1, 0, 1, 0, 0, 1,\n",
              "       0, 1, 0, 0, 0, 0, 0, 1, 0, 1, 0, 1, 0, 1, 1, 0, 0, 0, 0, 1, 1, 0,\n",
              "       0, 0, 1, 0, 1, 1, 0, 0, 1, 0, 0, 1, 1, 0, 0, 1, 0, 0, 1, 0, 0, 0,\n",
              "       0, 0, 0, 0, 1, 1, 1, 0, 0, 0, 0, 0, 0, 1, 1, 0, 0, 1, 0, 0, 1, 0,\n",
              "       1, 1, 1, 0, 0, 1, 1, 1, 0, 1, 0, 1, 0, 1, 0, 0, 0, 0, 1, 0])"
            ]
          },
          "metadata": {
            "tags": []
          },
          "execution_count": 13
        }
      ]
    },
    {
      "cell_type": "code",
      "metadata": {
        "id": "KL4zIPBgPfdr",
        "colab_type": "code",
        "colab": {}
      },
      "source": [
        "from sklearn.model_selection import train_test_split\n",
        "X_train,X_test,y_train,y_test = train_test_split(input_layers,output_pred,test_size=.3,random_state=0)"
      ],
      "execution_count": 0,
      "outputs": []
    },
    {
      "cell_type": "code",
      "metadata": {
        "id": "7t0k8Jy3Pmkt",
        "colab_type": "code",
        "outputId": "54dd8034-4de2-4664-a4ca-c9c10023c87a",
        "colab": {
          "base_uri": "https://localhost:8080/",
          "height": 263
        }
      },
      "source": [
        "print(X_train)\n",
        "print(X_test)"
      ],
      "execution_count": 0,
      "outputs": [
        {
          "output_type": "stream",
          "text": [
            "[[0.00e+00 1.51e+02 9.00e+01 ... 4.21e+01 3.71e-01 2.10e+01]\n",
            " [1.00e+00 8.30e+01 6.80e+01 ... 1.82e+01 6.24e-01 2.70e+01]\n",
            " [2.00e+00 1.22e+02 7.00e+01 ... 3.68e+01 3.40e-01 2.70e+01]\n",
            " ...\n",
            " [4.00e+00 9.40e+01 6.50e+01 ... 2.47e+01 1.48e-01 2.10e+01]\n",
            " [1.10e+01 8.50e+01 7.40e+01 ... 3.01e+01 3.00e-01 3.50e+01]\n",
            " [5.00e+00 1.36e+02 8.20e+01 ... 0.00e+00 6.40e-01 6.90e+01]]\n",
            "[[1.000e+00 1.990e+02 7.600e+01 ... 4.290e+01 1.394e+00 2.200e+01]\n",
            " [2.000e+00 1.070e+02 7.400e+01 ... 3.360e+01 4.040e-01 2.300e+01]\n",
            " [4.000e+00 7.600e+01 6.200e+01 ... 3.400e+01 3.910e-01 2.500e+01]\n",
            " ...\n",
            " [1.000e+00 9.500e+01 6.000e+01 ... 2.390e+01 2.600e-01 2.200e+01]\n",
            " [1.000e+00 1.060e+02 7.600e+01 ... 3.750e+01 1.970e-01 2.600e+01]\n",
            " [1.000e+01 1.220e+02 7.800e+01 ... 2.760e+01 5.120e-01 4.500e+01]]\n"
          ],
          "name": "stdout"
        }
      ]
    },
    {
      "cell_type": "code",
      "metadata": {
        "id": "PxMVBKyoPuV0",
        "colab_type": "code",
        "colab": {}
      },
      "source": [
        "from keras.models import Sequential\n",
        "from keras.layers import Dense,Dropout, Flatten\n",
        "from keras.optimizers import Adam,sgd\n",
        "from sklearn.metrics import mean_absolute_error\n",
        "from keras import layers, metrics\n",
        "import keras"
      ],
      "execution_count": 0,
      "outputs": []
    },
    {
      "cell_type": "code",
      "metadata": {
        "id": "GdjARmvfPxxk",
        "colab_type": "code",
        "outputId": "3fc6c81c-35f3-4664-ba6f-99c272a8890b",
        "colab": {
          "base_uri": "https://localhost:8080/",
          "height": 34
        }
      },
      "source": [
        "!pip3 install 'gast==0.2.2'\n",
        "try:\n",
        "  %tensorflow_version 2.x\n",
        "except Exception:\n",
        "  pass"
      ],
      "execution_count": 0,
      "outputs": [
        {
          "output_type": "stream",
          "text": [
            "Requirement already satisfied: gast==0.2.2 in /usr/local/lib/python3.6/dist-packages (0.2.2)\n"
          ],
          "name": "stdout"
        }
      ]
    },
    {
      "cell_type": "code",
      "metadata": {
        "id": "b4jtBRZUP7N5",
        "colab_type": "code",
        "colab": {}
      },
      "source": [
        "from keras.wrappers.scikit_learn import KerasClassifier\n",
        "from sklearn.model_selection import cross_val_score\n",
        "from sklearn.model_selection import StratifiedKFold"
      ],
      "execution_count": 0,
      "outputs": []
    },
    {
      "cell_type": "code",
      "metadata": {
        "id": "wL9dvvErP_UY",
        "colab_type": "code",
        "colab": {}
      },
      "source": [
        "def model(X_train,X_test,y_train,y_test):\n",
        "    logi = Sequential()\n",
        "    logi.add(Dense(300, activation=\"relu\",input_shape=(8,)))\n",
        "    logi.add(Dropout(0.4))\n",
        "    logi.add(Dense(10, activation=\"relu\"))\n",
        "    logi.add(Dropout(0.1))\n",
        "    logi.add(Dense(4, activation=\"relu\"))\n",
        "    logi.add(Dense(1,activation='sigmoid'))\n",
        "    logi.compile(loss='binary_crossentropy', optimizer=sgd(), metrics=['accuracy'])\n",
        "    logi.fit(X_train, y_train, epochs=100)\n",
        "    a = logi.evaluate(X_test, y_test)\n",
        "    return a"
      ],
      "execution_count": 0,
      "outputs": []
    },
    {
      "cell_type": "code",
      "metadata": {
        "id": "2pvm7Di1QDsY",
        "colab_type": "code",
        "outputId": "7474285a-c3c8-41fb-9550-8988e2b49da7",
        "colab": {
          "base_uri": "https://localhost:8080/",
          "height": 1000
        }
      },
      "source": [
        "model(X_train,X_test,y_train,y_test)"
      ],
      "execution_count": 0,
      "outputs": [
        {
          "output_type": "stream",
          "text": [
            "Epoch 1/100\n",
            "537/537 [==============================] - 0s 288us/step - loss: 0.8600 - accuracy: 0.4991\n",
            "Epoch 2/100\n",
            "537/537 [==============================] - 0s 59us/step - loss: 0.6892 - accuracy: 0.6220\n",
            "Epoch 3/100\n",
            "537/537 [==============================] - 0s 44us/step - loss: 0.7143 - accuracy: 0.6089\n",
            "Epoch 4/100\n",
            "537/537 [==============================] - 0s 45us/step - loss: 0.6741 - accuracy: 0.6387\n",
            "Epoch 5/100\n",
            "537/537 [==============================] - 0s 53us/step - loss: 0.6774 - accuracy: 0.6387\n",
            "Epoch 6/100\n",
            "537/537 [==============================] - 0s 48us/step - loss: 0.6791 - accuracy: 0.6387\n",
            "Epoch 7/100\n",
            "537/537 [==============================] - 0s 48us/step - loss: 0.6749 - accuracy: 0.6387\n",
            "Epoch 8/100\n",
            "537/537 [==============================] - 0s 50us/step - loss: 0.6692 - accuracy: 0.6387\n",
            "Epoch 9/100\n",
            "537/537 [==============================] - 0s 51us/step - loss: 0.6821 - accuracy: 0.6387\n",
            "Epoch 10/100\n",
            "537/537 [==============================] - 0s 52us/step - loss: 0.6772 - accuracy: 0.6387\n",
            "Epoch 11/100\n",
            "537/537 [==============================] - 0s 53us/step - loss: 0.6713 - accuracy: 0.6387\n",
            "Epoch 12/100\n",
            "537/537 [==============================] - 0s 53us/step - loss: 0.6739 - accuracy: 0.6387\n",
            "Epoch 13/100\n",
            "537/537 [==============================] - 0s 51us/step - loss: 0.6731 - accuracy: 0.6387\n",
            "Epoch 14/100\n",
            "537/537 [==============================] - 0s 50us/step - loss: 0.6686 - accuracy: 0.6387\n",
            "Epoch 15/100\n",
            "537/537 [==============================] - 0s 51us/step - loss: 0.6615 - accuracy: 0.6387\n",
            "Epoch 16/100\n",
            "537/537 [==============================] - 0s 48us/step - loss: 0.6563 - accuracy: 0.6387\n",
            "Epoch 17/100\n",
            "537/537 [==============================] - 0s 49us/step - loss: 0.6691 - accuracy: 0.6387\n",
            "Epoch 18/100\n",
            "537/537 [==============================] - 0s 56us/step - loss: 0.6619 - accuracy: 0.6387\n",
            "Epoch 19/100\n",
            "537/537 [==============================] - 0s 63us/step - loss: 0.6578 - accuracy: 0.6387\n",
            "Epoch 20/100\n",
            "537/537 [==============================] - 0s 52us/step - loss: 0.6756 - accuracy: 0.6387\n",
            "Epoch 21/100\n",
            "537/537 [==============================] - 0s 50us/step - loss: 0.6577 - accuracy: 0.6387\n",
            "Epoch 22/100\n",
            "537/537 [==============================] - 0s 49us/step - loss: 0.6518 - accuracy: 0.6387\n",
            "Epoch 23/100\n",
            "537/537 [==============================] - 0s 48us/step - loss: 0.6467 - accuracy: 0.6387\n",
            "Epoch 24/100\n",
            "537/537 [==============================] - 0s 52us/step - loss: 0.6606 - accuracy: 0.6387\n",
            "Epoch 25/100\n",
            "537/537 [==============================] - 0s 51us/step - loss: 0.6442 - accuracy: 0.6387\n",
            "Epoch 26/100\n",
            "537/537 [==============================] - 0s 48us/step - loss: 0.6553 - accuracy: 0.6387\n",
            "Epoch 27/100\n",
            "537/537 [==============================] - 0s 61us/step - loss: 0.6511 - accuracy: 0.6387\n",
            "Epoch 28/100\n",
            "537/537 [==============================] - 0s 49us/step - loss: 0.6516 - accuracy: 0.6387\n",
            "Epoch 29/100\n",
            "537/537 [==============================] - 0s 58us/step - loss: 0.6376 - accuracy: 0.6387\n",
            "Epoch 30/100\n",
            "537/537 [==============================] - 0s 51us/step - loss: 0.6492 - accuracy: 0.6387\n",
            "Epoch 31/100\n",
            "537/537 [==============================] - 0s 50us/step - loss: 0.6426 - accuracy: 0.6387\n",
            "Epoch 32/100\n",
            "537/537 [==============================] - 0s 55us/step - loss: 0.6506 - accuracy: 0.6387\n",
            "Epoch 33/100\n",
            "537/537 [==============================] - 0s 59us/step - loss: 0.6460 - accuracy: 0.6387\n",
            "Epoch 34/100\n",
            "537/537 [==============================] - 0s 49us/step - loss: 0.6431 - accuracy: 0.6387\n",
            "Epoch 35/100\n",
            "537/537 [==============================] - 0s 54us/step - loss: 0.6387 - accuracy: 0.6387\n",
            "Epoch 36/100\n",
            "537/537 [==============================] - 0s 56us/step - loss: 0.6461 - accuracy: 0.6387\n",
            "Epoch 37/100\n",
            "537/537 [==============================] - 0s 50us/step - loss: 0.6474 - accuracy: 0.6387\n",
            "Epoch 38/100\n",
            "537/537 [==============================] - 0s 59us/step - loss: 0.6394 - accuracy: 0.6387\n",
            "Epoch 39/100\n",
            "537/537 [==============================] - 0s 54us/step - loss: 0.6374 - accuracy: 0.6387\n",
            "Epoch 40/100\n",
            "537/537 [==============================] - 0s 49us/step - loss: 0.6450 - accuracy: 0.6387\n",
            "Epoch 41/100\n",
            "537/537 [==============================] - 0s 48us/step - loss: 0.6319 - accuracy: 0.6387\n",
            "Epoch 42/100\n",
            "537/537 [==============================] - 0s 52us/step - loss: 0.6408 - accuracy: 0.6387\n",
            "Epoch 43/100\n",
            "537/537 [==============================] - 0s 48us/step - loss: 0.6434 - accuracy: 0.6387\n",
            "Epoch 44/100\n",
            "537/537 [==============================] - 0s 49us/step - loss: 0.6322 - accuracy: 0.6387\n",
            "Epoch 45/100\n",
            "537/537 [==============================] - 0s 47us/step - loss: 0.6356 - accuracy: 0.6387\n",
            "Epoch 46/100\n",
            "537/537 [==============================] - 0s 50us/step - loss: 0.6378 - accuracy: 0.6387\n",
            "Epoch 47/100\n",
            "537/537 [==============================] - 0s 48us/step - loss: 0.6335 - accuracy: 0.6387\n",
            "Epoch 48/100\n",
            "537/537 [==============================] - 0s 48us/step - loss: 0.6378 - accuracy: 0.6387\n",
            "Epoch 49/100\n",
            "537/537 [==============================] - 0s 51us/step - loss: 0.6347 - accuracy: 0.6387\n",
            "Epoch 50/100\n",
            "537/537 [==============================] - 0s 48us/step - loss: 0.6428 - accuracy: 0.6387\n",
            "Epoch 51/100\n",
            "537/537 [==============================] - 0s 47us/step - loss: 0.6444 - accuracy: 0.6387\n",
            "Epoch 52/100\n",
            "537/537 [==============================] - 0s 50us/step - loss: 0.6419 - accuracy: 0.6387\n",
            "Epoch 53/100\n",
            "537/537 [==============================] - 0s 51us/step - loss: 0.6381 - accuracy: 0.6387\n",
            "Epoch 54/100\n",
            "537/537 [==============================] - 0s 48us/step - loss: 0.6273 - accuracy: 0.6387\n",
            "Epoch 55/100\n",
            "537/537 [==============================] - 0s 48us/step - loss: 0.6196 - accuracy: 0.6387\n",
            "Epoch 56/100\n",
            "537/537 [==============================] - 0s 53us/step - loss: 0.6314 - accuracy: 0.6387\n",
            "Epoch 57/100\n",
            "537/537 [==============================] - 0s 52us/step - loss: 0.6298 - accuracy: 0.6387\n",
            "Epoch 58/100\n",
            "537/537 [==============================] - 0s 50us/step - loss: 0.6413 - accuracy: 0.6387\n",
            "Epoch 59/100\n",
            "537/537 [==============================] - 0s 52us/step - loss: 0.6289 - accuracy: 0.6387\n",
            "Epoch 60/100\n",
            "537/537 [==============================] - 0s 52us/step - loss: 0.6229 - accuracy: 0.6387\n",
            "Epoch 61/100\n",
            "537/537 [==============================] - 0s 47us/step - loss: 0.6316 - accuracy: 0.6387\n",
            "Epoch 62/100\n",
            "537/537 [==============================] - 0s 52us/step - loss: 0.6407 - accuracy: 0.6387\n",
            "Epoch 63/100\n",
            "537/537 [==============================] - 0s 54us/step - loss: 0.6205 - accuracy: 0.6387\n",
            "Epoch 64/100\n",
            "537/537 [==============================] - 0s 53us/step - loss: 0.6359 - accuracy: 0.6387\n",
            "Epoch 65/100\n",
            "537/537 [==============================] - 0s 52us/step - loss: 0.6165 - accuracy: 0.6387\n",
            "Epoch 66/100\n",
            "537/537 [==============================] - 0s 49us/step - loss: 0.6310 - accuracy: 0.6387\n",
            "Epoch 67/100\n",
            "537/537 [==============================] - 0s 55us/step - loss: 0.6233 - accuracy: 0.6387\n",
            "Epoch 68/100\n",
            "537/537 [==============================] - 0s 49us/step - loss: 0.6284 - accuracy: 0.6387\n",
            "Epoch 69/100\n",
            "537/537 [==============================] - 0s 45us/step - loss: 0.6239 - accuracy: 0.6387\n",
            "Epoch 70/100\n",
            "537/537 [==============================] - 0s 57us/step - loss: 0.6265 - accuracy: 0.6387\n",
            "Epoch 71/100\n",
            "537/537 [==============================] - 0s 60us/step - loss: 0.6325 - accuracy: 0.6387\n",
            "Epoch 72/100\n",
            "537/537 [==============================] - 0s 56us/step - loss: 0.6225 - accuracy: 0.6387\n",
            "Epoch 73/100\n",
            "537/537 [==============================] - 0s 68us/step - loss: 0.6288 - accuracy: 0.6387\n",
            "Epoch 74/100\n",
            "537/537 [==============================] - 0s 53us/step - loss: 0.6186 - accuracy: 0.6387\n",
            "Epoch 75/100\n",
            "537/537 [==============================] - 0s 55us/step - loss: 0.6234 - accuracy: 0.6387\n",
            "Epoch 76/100\n",
            "537/537 [==============================] - 0s 56us/step - loss: 0.6189 - accuracy: 0.6387\n",
            "Epoch 77/100\n",
            "537/537 [==============================] - 0s 70us/step - loss: 0.6282 - accuracy: 0.6387\n",
            "Epoch 78/100\n",
            "537/537 [==============================] - 0s 61us/step - loss: 0.6278 - accuracy: 0.6387\n",
            "Epoch 79/100\n",
            "537/537 [==============================] - 0s 57us/step - loss: 0.6251 - accuracy: 0.6387\n",
            "Epoch 80/100\n",
            "537/537 [==============================] - 0s 54us/step - loss: 0.6231 - accuracy: 0.6387\n",
            "Epoch 81/100\n",
            "537/537 [==============================] - 0s 57us/step - loss: 0.6218 - accuracy: 0.6387\n",
            "Epoch 82/100\n",
            "537/537 [==============================] - 0s 61us/step - loss: 0.6149 - accuracy: 0.6387\n",
            "Epoch 83/100\n",
            "537/537 [==============================] - 0s 54us/step - loss: 0.6253 - accuracy: 0.6387\n",
            "Epoch 84/100\n",
            "537/537 [==============================] - 0s 56us/step - loss: 0.6325 - accuracy: 0.6387\n",
            "Epoch 85/100\n",
            "537/537 [==============================] - 0s 55us/step - loss: 0.6184 - accuracy: 0.6387\n",
            "Epoch 86/100\n",
            "537/537 [==============================] - 0s 51us/step - loss: 0.6193 - accuracy: 0.6387\n",
            "Epoch 87/100\n",
            "537/537 [==============================] - 0s 56us/step - loss: 0.6169 - accuracy: 0.6387\n",
            "Epoch 88/100\n",
            "537/537 [==============================] - 0s 58us/step - loss: 0.6139 - accuracy: 0.6387\n",
            "Epoch 89/100\n",
            "537/537 [==============================] - 0s 56us/step - loss: 0.6274 - accuracy: 0.6387\n",
            "Epoch 90/100\n",
            "537/537 [==============================] - 0s 68us/step - loss: 0.6268 - accuracy: 0.6387\n",
            "Epoch 91/100\n",
            "537/537 [==============================] - 0s 56us/step - loss: 0.6261 - accuracy: 0.6387\n",
            "Epoch 92/100\n",
            "537/537 [==============================] - 0s 59us/step - loss: 0.6255 - accuracy: 0.6387\n",
            "Epoch 93/100\n",
            "537/537 [==============================] - 0s 58us/step - loss: 0.6176 - accuracy: 0.6387\n",
            "Epoch 94/100\n",
            "537/537 [==============================] - 0s 53us/step - loss: 0.6232 - accuracy: 0.6387\n",
            "Epoch 95/100\n",
            "537/537 [==============================] - 0s 61us/step - loss: 0.6293 - accuracy: 0.6387\n",
            "Epoch 96/100\n",
            "537/537 [==============================] - 0s 59us/step - loss: 0.6122 - accuracy: 0.6387\n",
            "Epoch 97/100\n",
            "537/537 [==============================] - 0s 60us/step - loss: 0.6295 - accuracy: 0.6387\n",
            "Epoch 98/100\n",
            "537/537 [==============================] - 0s 63us/step - loss: 0.6249 - accuracy: 0.6387\n",
            "Epoch 99/100\n",
            "537/537 [==============================] - 0s 58us/step - loss: 0.6184 - accuracy: 0.6387\n",
            "Epoch 100/100\n",
            "537/537 [==============================] - 0s 58us/step - loss: 0.6074 - accuracy: 0.6387\n",
            "231/231 [==============================] - 0s 150us/step\n"
          ],
          "name": "stdout"
        },
        {
          "output_type": "execute_result",
          "data": {
            "text/plain": [
              "[0.6136281348410106, 0.6796537041664124]"
            ]
          },
          "metadata": {
            "tags": []
          },
          "execution_count": 20
        }
      ]
    }
  ]
}