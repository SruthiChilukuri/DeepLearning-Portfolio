{
  "nbformat": 4,
  "nbformat_minor": 0,
  "metadata": {
    "colab": {
      "name": "p1ch4-tabularwine",
      "provenance": [],
      "authorship_tag": "ABX9TyOeRKUEnj9h2AuI9GjBwgxY",
      "include_colab_link": true
    },
    "kernelspec": {
      "name": "python3",
      "display_name": "Python 3"
    }
  },
  "cells": [
    {
      "cell_type": "markdown",
      "metadata": {
        "id": "view-in-github",
        "colab_type": "text"
      },
      "source": [
        "<a href=\"https://colab.research.google.com/github/sruthi1996/DeepLearning/blob/master/p1ch4_tabularwine.ipynb\" target=\"_parent\"><img src=\"https://colab.research.google.com/assets/colab-badge.svg\" alt=\"Open In Colab\"/></a>"
      ]
    },
    {
      "cell_type": "code",
      "metadata": {
        "id": "_N6WnPFBrUjv",
        "colab_type": "code",
        "colab": {}
      },
      "source": [
        "import numpy as np\n",
        "import torch\n",
        "import imageio\n",
        "import csv\n",
        "torch.set_printoptions(edgeitems=2, threshold=50)"
      ],
      "execution_count": 0,
      "outputs": []
    },
    {
      "cell_type": "code",
      "metadata": {
        "id": "H_ciNhN6r-5m",
        "colab_type": "code",
        "colab": {}
      },
      "source": [
        "from pydrive.auth import GoogleAuth\n",
        "from pydrive.drive import GoogleDrive\n",
        "from google.colab import auth\n",
        "from oauth2client.client import GoogleCredentials"
      ],
      "execution_count": 0,
      "outputs": []
    },
    {
      "cell_type": "code",
      "metadata": {
        "id": "BMKWrzPZseUM",
        "colab_type": "code",
        "colab": {}
      },
      "source": [
        "auth.authenticate_user()\n",
        "gauth = GoogleAuth()\n",
        "gauth.credentials = GoogleCredentials.get_application_default()\n",
        "drive = GoogleDrive(gauth)"
      ],
      "execution_count": 0,
      "outputs": []
    },
    {
      "cell_type": "code",
      "metadata": {
        "id": "Kas-ic_1siZ0",
        "colab_type": "code",
        "colab": {}
      },
      "source": [
        "download = drive.CreateFile({'id':\"1hDnEYeFSlT2MtjPmxK5pal7AIuWmljzy\"})\n",
        "download.GetContentFile('wineQualityWhites.csv')"
      ],
      "execution_count": 0,
      "outputs": []
    },
    {
      "cell_type": "code",
      "metadata": {
        "id": "XT6sHW6tttav",
        "colab_type": "code",
        "colab": {}
      },
      "source": [
        "import pandas as pd\n",
        "data = pd.read_csv('wineQualityWhites.csv')"
      ],
      "execution_count": 0,
      "outputs": []
    },
    {
      "cell_type": "code",
      "metadata": {
        "id": "sZ8DBEXhHo1q",
        "colab_type": "code",
        "colab": {
          "base_uri": "https://localhost:8080/",
          "height": 369
        },
        "outputId": "86d6ea68-31f9-47ba-b088-725c4cd13338"
      },
      "source": [
        "data.info()"
      ],
      "execution_count": 74,
      "outputs": [
        {
          "output_type": "stream",
          "text": [
            "<class 'pandas.core.frame.DataFrame'>\n",
            "RangeIndex: 4898 entries, 0 to 4897\n",
            "Data columns (total 13 columns):\n",
            " #   Column                Non-Null Count  Dtype  \n",
            "---  ------                --------------  -----  \n",
            " 0   Unnamed: 0            4898 non-null   int64  \n",
            " 1   fixed.acidity         4898 non-null   float64\n",
            " 2   volatile.acidity      4898 non-null   float64\n",
            " 3   citric.acid           4898 non-null   float64\n",
            " 4   residual.sugar        4898 non-null   float64\n",
            " 5   chlorides             4898 non-null   float64\n",
            " 6   free.sulfur.dioxide   4898 non-null   float64\n",
            " 7   total.sulfur.dioxide  4898 non-null   float64\n",
            " 8   density               4898 non-null   float64\n",
            " 9   pH                    4898 non-null   float64\n",
            " 10  sulphates             4898 non-null   float64\n",
            " 11  alcohol               4898 non-null   float64\n",
            " 12  quality               4898 non-null   int64  \n",
            "dtypes: float64(11), int64(2)\n",
            "memory usage: 497.6 KB\n"
          ],
          "name": "stdout"
        }
      ]
    },
    {
      "cell_type": "code",
      "metadata": {
        "id": "PQ5sy4VgHzrV",
        "colab_type": "code",
        "colab": {
          "base_uri": "https://localhost:8080/",
          "height": 246
        },
        "outputId": "e812b17c-1fb8-4947-efdc-acd03d2982bc"
      },
      "source": [
        "num_array = data.values\n",
        "num_array"
      ],
      "execution_count": 75,
      "outputs": [
        {
          "output_type": "execute_result",
          "data": {
            "text/plain": [
              "array([[1.000e+00, 7.000e+00, 2.700e-01, ..., 4.500e-01, 8.800e+00,\n",
              "        6.000e+00],\n",
              "       [2.000e+00, 6.300e+00, 3.000e-01, ..., 4.900e-01, 9.500e+00,\n",
              "        6.000e+00],\n",
              "       [3.000e+00, 8.100e+00, 2.800e-01, ..., 4.400e-01, 1.010e+01,\n",
              "        6.000e+00],\n",
              "       ...,\n",
              "       [4.896e+03, 6.500e+00, 2.400e-01, ..., 4.600e-01, 9.400e+00,\n",
              "        6.000e+00],\n",
              "       [4.897e+03, 5.500e+00, 2.900e-01, ..., 3.800e-01, 1.280e+01,\n",
              "        7.000e+00],\n",
              "       [4.898e+03, 6.000e+00, 2.100e-01, ..., 3.200e-01, 1.180e+01,\n",
              "        6.000e+00]])"
            ]
          },
          "metadata": {
            "tags": []
          },
          "execution_count": 75
        }
      ]
    },
    {
      "cell_type": "code",
      "metadata": {
        "id": "Cgu_smAjIgXR",
        "colab_type": "code",
        "colab": {
          "base_uri": "https://localhost:8080/",
          "height": 246
        },
        "outputId": "44ebb7f9-5238-4ce1-9828-f6b49b20e489"
      },
      "source": [
        "for col in data.columns: \n",
        "    print(col) "
      ],
      "execution_count": 76,
      "outputs": [
        {
          "output_type": "stream",
          "text": [
            "Unnamed: 0\n",
            "fixed.acidity\n",
            "volatile.acidity\n",
            "citric.acid\n",
            "residual.sugar\n",
            "chlorides\n",
            "free.sulfur.dioxide\n",
            "total.sulfur.dioxide\n",
            "density\n",
            "pH\n",
            "sulphates\n",
            "alcohol\n",
            "quality\n"
          ],
          "name": "stdout"
        }
      ]
    },
    {
      "cell_type": "code",
      "metadata": {
        "id": "xL_7kKrUI7UL",
        "colab_type": "code",
        "colab": {
          "base_uri": "https://localhost:8080/",
          "height": 246
        },
        "outputId": "9c6a6269-fa04-4148-fff1-1a7682a80613"
      },
      "source": [
        "list(data.columns) "
      ],
      "execution_count": 77,
      "outputs": [
        {
          "output_type": "execute_result",
          "data": {
            "text/plain": [
              "['Unnamed: 0',\n",
              " 'fixed.acidity',\n",
              " 'volatile.acidity',\n",
              " 'citric.acid',\n",
              " 'residual.sugar',\n",
              " 'chlorides',\n",
              " 'free.sulfur.dioxide',\n",
              " 'total.sulfur.dioxide',\n",
              " 'density',\n",
              " 'pH',\n",
              " 'sulphates',\n",
              " 'alcohol',\n",
              " 'quality']"
            ]
          },
          "metadata": {
            "tags": []
          },
          "execution_count": 77
        }
      ]
    },
    {
      "cell_type": "code",
      "metadata": {
        "id": "Va6Gcn_1J6OA",
        "colab_type": "code",
        "colab": {
          "base_uri": "https://localhost:8080/",
          "height": 34
        },
        "outputId": "e88ec6b2-fd3d-412c-b26b-d11792b1da5b"
      },
      "source": [
        "num_array.shape"
      ],
      "execution_count": 78,
      "outputs": [
        {
          "output_type": "execute_result",
          "data": {
            "text/plain": [
              "(4898, 13)"
            ]
          },
          "metadata": {
            "tags": []
          },
          "execution_count": 78
        }
      ]
    },
    {
      "cell_type": "code",
      "metadata": {
        "id": "J90TL8feKFwq",
        "colab_type": "code",
        "colab": {}
      },
      "source": [
        "wineq = torch.from_numpy(num_array)\n"
      ],
      "execution_count": 0,
      "outputs": []
    },
    {
      "cell_type": "code",
      "metadata": {
        "id": "bmzn4ATQKMf3",
        "colab_type": "code",
        "colab": {
          "base_uri": "https://localhost:8080/",
          "height": 34
        },
        "outputId": "405349db-0776-42ab-d592-5c5400effc0c"
      },
      "source": [
        "wineq.shape, wineq.dtype"
      ],
      "execution_count": 80,
      "outputs": [
        {
          "output_type": "execute_result",
          "data": {
            "text/plain": [
              "(torch.Size([4898, 13]), torch.float64)"
            ]
          },
          "metadata": {
            "tags": []
          },
          "execution_count": 80
        }
      ]
    },
    {
      "cell_type": "code",
      "metadata": {
        "id": "9oGek_YhKPFu",
        "colab_type": "code",
        "colab": {
          "base_uri": "https://localhost:8080/",
          "height": 122
        },
        "outputId": "9b5fe703-f56e-4cb6-fd8c-626e202b5d02"
      },
      "source": [
        "data = wineq[:, :-2] \n",
        "data, data.shape"
      ],
      "execution_count": 81,
      "outputs": [
        {
          "output_type": "execute_result",
          "data": {
            "text/plain": [
              "(tensor([[1.0000e+00, 7.0000e+00,  ..., 3.0000e+00, 4.5000e-01],\n",
              "         [2.0000e+00, 6.3000e+00,  ..., 3.3000e+00, 4.9000e-01],\n",
              "         ...,\n",
              "         [4.8970e+03, 5.5000e+00,  ..., 3.3400e+00, 3.8000e-01],\n",
              "         [4.8980e+03, 6.0000e+00,  ..., 3.2600e+00, 3.2000e-01]],\n",
              "        dtype=torch.float64), torch.Size([4898, 11]))"
            ]
          },
          "metadata": {
            "tags": []
          },
          "execution_count": 81
        }
      ]
    },
    {
      "cell_type": "code",
      "metadata": {
        "id": "PXirfsCrKX92",
        "colab_type": "code",
        "colab": {
          "base_uri": "https://localhost:8080/",
          "height": 34
        },
        "outputId": "93d9023a-d964-44f6-ae58-809e56728d61"
      },
      "source": [
        "target = wineq[:, -1] # <2>\n",
        "target, target.shape"
      ],
      "execution_count": 82,
      "outputs": [
        {
          "output_type": "execute_result",
          "data": {
            "text/plain": [
              "(tensor([6., 6.,  ..., 7., 6.], dtype=torch.float64), torch.Size([4898]))"
            ]
          },
          "metadata": {
            "tags": []
          },
          "execution_count": 82
        }
      ]
    },
    {
      "cell_type": "code",
      "metadata": {
        "id": "DaPznL2JKaq0",
        "colab_type": "code",
        "colab": {
          "base_uri": "https://localhost:8080/",
          "height": 34
        },
        "outputId": "1cf82326-99ce-4498-fac1-8fec4e87c5dc"
      },
      "source": [
        "target = wineq[:, -1].long()\n",
        "target"
      ],
      "execution_count": 83,
      "outputs": [
        {
          "output_type": "execute_result",
          "data": {
            "text/plain": [
              "tensor([6, 6,  ..., 7, 6])"
            ]
          },
          "metadata": {
            "tags": []
          },
          "execution_count": 83
        }
      ]
    },
    {
      "cell_type": "code",
      "metadata": {
        "id": "amtnwiF3KdTx",
        "colab_type": "code",
        "colab": {
          "base_uri": "https://localhost:8080/",
          "height": 105
        },
        "outputId": "1a94dd92-a5fa-490a-c795-d39fec128fa1"
      },
      "source": [
        "#onehot encoding target label\n",
        "target_onehot = torch.zeros(target.shape[0], 10)\n",
        "target_onehot.scatter_(1, target.unsqueeze(1), 1.0)"
      ],
      "execution_count": 84,
      "outputs": [
        {
          "output_type": "execute_result",
          "data": {
            "text/plain": [
              "tensor([[0., 0.,  ..., 0., 0.],\n",
              "        [0., 0.,  ..., 0., 0.],\n",
              "        ...,\n",
              "        [0., 0.,  ..., 0., 0.],\n",
              "        [0., 0.,  ..., 0., 0.]])"
            ]
          },
          "metadata": {
            "tags": []
          },
          "execution_count": 84
        }
      ]
    },
    {
      "cell_type": "code",
      "metadata": {
        "id": "iY8rnNFOKh0z",
        "colab_type": "code",
        "colab": {
          "base_uri": "https://localhost:8080/",
          "height": 105
        },
        "outputId": "12abb2e4-e3f3-4ea7-bcb5-fd6a5e960fce"
      },
      "source": [
        "target_unsqueezed = target.unsqueeze(1)\n",
        "target_unsqueezed"
      ],
      "execution_count": 85,
      "outputs": [
        {
          "output_type": "execute_result",
          "data": {
            "text/plain": [
              "tensor([[6],\n",
              "        [6],\n",
              "        ...,\n",
              "        [7],\n",
              "        [6]])"
            ]
          },
          "metadata": {
            "tags": []
          },
          "execution_count": 85
        }
      ]
    },
    {
      "cell_type": "code",
      "metadata": {
        "id": "L7GHU_D_KkZW",
        "colab_type": "code",
        "colab": {
          "base_uri": "https://localhost:8080/",
          "height": 70
        },
        "outputId": "86fbf035-1dde-40cd-cea0-a7a3645e519e"
      },
      "source": [
        "#mean\n",
        "data_mean = torch.mean(data, dim=0)\n",
        "data_mean"
      ],
      "execution_count": 86,
      "outputs": [
        {
          "output_type": "execute_result",
          "data": {
            "text/plain": [
              "tensor([2.4495e+03, 6.8548e+00, 2.7824e-01, 3.3419e-01, 6.3914e+00, 4.5772e-02,\n",
              "        3.5308e+01, 1.3836e+02, 9.9403e-01, 3.1883e+00, 4.8985e-01],\n",
              "       dtype=torch.float64)"
            ]
          },
          "metadata": {
            "tags": []
          },
          "execution_count": 86
        }
      ]
    },
    {
      "cell_type": "code",
      "metadata": {
        "id": "xOvXfd7JKrSZ",
        "colab_type": "code",
        "colab": {
          "base_uri": "https://localhost:8080/",
          "height": 70
        },
        "outputId": "28601662-fac0-4d27-ceec-d80f1f204683"
      },
      "source": [
        "#variance\n",
        "data_var = torch.var(data, dim=0)\n",
        "data_var"
      ],
      "execution_count": 87,
      "outputs": [
        {
          "output_type": "execute_result",
          "data": {
            "text/plain": [
              "tensor([1.9996e+06, 7.1211e-01, 1.0160e-02, 1.4646e-02, 2.5726e+01, 4.7733e-04,\n",
              "        2.8924e+02, 1.8061e+03, 8.9455e-06, 2.2801e-02, 1.3025e-02],\n",
              "       dtype=torch.float64)"
            ]
          },
          "metadata": {
            "tags": []
          },
          "execution_count": 87
        }
      ]
    },
    {
      "cell_type": "code",
      "metadata": {
        "id": "c5eJkN4_KwM7",
        "colab_type": "code",
        "colab": {
          "base_uri": "https://localhost:8080/",
          "height": 122
        },
        "outputId": "ef63db01-05be-4ff8-b7c3-24146eb341e4"
      },
      "source": [
        "#normalize\n",
        "data_normalized = (data - data_mean) / torch.sqrt(data_var)\n",
        "data_normalized"
      ],
      "execution_count": 88,
      "outputs": [
        {
          "output_type": "execute_result",
          "data": {
            "text/plain": [
              "tensor([[-1.7315e+00,  1.7208e-01,  ..., -1.2468e+00, -3.4915e-01],\n",
              "        [-1.7308e+00, -6.5743e-01,  ...,  7.3995e-01,  1.3417e-03],\n",
              "        ...,\n",
              "        [ 1.7308e+00, -1.6054e+00,  ...,  1.0049e+00, -9.6251e-01],\n",
              "        [ 1.7315e+00, -1.0129e+00,  ...,  4.7505e-01, -1.4882e+00]],\n",
              "       dtype=torch.float64)"
            ]
          },
          "metadata": {
            "tags": []
          },
          "execution_count": 88
        }
      ]
    },
    {
      "cell_type": "code",
      "metadata": {
        "id": "hd_8_vfLK0Aj",
        "colab_type": "code",
        "colab": {
          "base_uri": "https://localhost:8080/",
          "height": 34
        },
        "outputId": "f4769a5e-ed5d-4808-daf8-e1bfeafa4040"
      },
      "source": [
        "bad_indexes = target <= 3 \n",
        "bad_indexes.shape, bad_indexes.dtype, bad_indexes.sum()"
      ],
      "execution_count": 89,
      "outputs": [
        {
          "output_type": "execute_result",
          "data": {
            "text/plain": [
              "(torch.Size([4898]), torch.bool, tensor(20))"
            ]
          },
          "metadata": {
            "tags": []
          },
          "execution_count": 89
        }
      ]
    },
    {
      "cell_type": "code",
      "metadata": {
        "id": "70BwfyKvK7UH",
        "colab_type": "code",
        "colab": {
          "base_uri": "https://localhost:8080/",
          "height": 34
        },
        "outputId": "3b7d9484-71ef-4fc3-c3ef-fbbda922c6ba"
      },
      "source": [
        "#bad data\n",
        "bad_data = data[bad_indexes]\n",
        "bad_data.shape"
      ],
      "execution_count": 90,
      "outputs": [
        {
          "output_type": "execute_result",
          "data": {
            "text/plain": [
              "torch.Size([20, 11])"
            ]
          },
          "metadata": {
            "tags": []
          },
          "execution_count": 90
        }
      ]
    },
    {
      "cell_type": "code",
      "metadata": {
        "id": "IwIW5wb3LAcm",
        "colab_type": "code",
        "colab": {
          "base_uri": "https://localhost:8080/",
          "height": 34
        },
        "outputId": "8c395a96-d5fb-4998-8b57-ea6b78f5bfa2"
      },
      "source": [
        "total_sulfur_threshold = 141.83\n",
        "total_sulfur_data = data[:,6]\n",
        "predicted_indexes = torch.lt(total_sulfur_data, total_sulfur_threshold)\n",
        "\n",
        "predicted_indexes.shape, predicted_indexes.dtype, predicted_indexes.sum()"
      ],
      "execution_count": 92,
      "outputs": [
        {
          "output_type": "execute_result",
          "data": {
            "text/plain": [
              "(torch.Size([4898]), torch.bool, tensor(4896))"
            ]
          },
          "metadata": {
            "tags": []
          },
          "execution_count": 92
        }
      ]
    },
    {
      "cell_type": "code",
      "metadata": {
        "id": "SUavwUk0MNFT",
        "colab_type": "code",
        "colab": {
          "base_uri": "https://localhost:8080/",
          "height": 34
        },
        "outputId": "ed90b2e3-9aec-4183-e396-87aa1c171a39"
      },
      "source": [
        "actual_indexes = target > 5\n",
        "actual_indexes.shape, actual_indexes.dtype, actual_indexes.sum()"
      ],
      "execution_count": 93,
      "outputs": [
        {
          "output_type": "execute_result",
          "data": {
            "text/plain": [
              "(torch.Size([4898]), torch.bool, tensor(3258))"
            ]
          },
          "metadata": {
            "tags": []
          },
          "execution_count": 93
        }
      ]
    },
    {
      "cell_type": "code",
      "metadata": {
        "id": "3Zx1w2y7MQB1",
        "colab_type": "code",
        "colab": {
          "base_uri": "https://localhost:8080/",
          "height": 34
        },
        "outputId": "1a527776-e644-41db-ba0b-ef5343b42313"
      },
      "source": [
        "n_matches = torch.sum(actual_indexes & predicted_indexes).item()\n",
        "n_predicted = torch.sum(predicted_indexes).item()\n",
        "n_actual = torch.sum(actual_indexes).item()\n",
        "n_matches, n_matches / n_predicted, n_matches / n_actual"
      ],
      "execution_count": 94,
      "outputs": [
        {
          "output_type": "execute_result",
          "data": {
            "text/plain": [
              "(3258, 0.6654411764705882, 1.0)"
            ]
          },
          "metadata": {
            "tags": []
          },
          "execution_count": 94
        }
      ]
    }
  ]
}